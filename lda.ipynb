{
 "cells": [
  {
   "cell_type": "code",
   "execution_count": 14,
   "metadata": {
    "collapsed": false
   },
   "outputs": [
    {
     "name": "stdout",
     "output_type": "stream",
     "text": [
      "[master 5e2bab2] new\n",
      " 1 file changed, 2278 insertions(+), 5 deletions(-)\n",
      "warning: push.default is unset; its implicit value has changed in\n",
      "Git 2.0 from 'matching' to 'simple'. To squelch this message\n",
      "and maintain the traditional behavior, use:\n",
      "\n",
      "  git config --global push.default matching\n",
      "\n",
      "To squelch this message and adopt the new behavior now, use:\n",
      "\n",
      "  git config --global push.default simple\n",
      "\n",
      "When push.default is set to 'matching', git will push local branches\n",
      "to the remote branches that already exist with the same name.\n",
      "\n",
      "Since Git 2.0, Git defaults to the more conservative 'simple'\n",
      "behavior, which only pushes the current branch to the corresponding\n",
      "remote branch that 'git pull' uses to update the current branch.\n",
      "\n",
      "See 'git help config' and search for 'push.default' for further information.\n",
      "(the 'simple' mode was introduced in Git 1.7.11. Use the similar mode\n",
      "'current' instead of 'simple' if you sometimes use older versions of Git)\n",
      "\n",
      "Counting objects: 3, done.\n",
      "Delta compression using up to 8 threads.\n",
      "Compressing objects: 100% (3/3), done.\n",
      "Writing objects: 100% (3/3), 675.74 KiB | 0 bytes/s, done.\n",
      "Total 3 (delta 1), reused 0 (delta 0)\n",
      "To https://github.com/ermakovpetr/npl_for_students\n",
      "   a1d5e44..5e2bab2  master -> master\n"
     ]
    }
   ],
   "source": [
    "!git add lda.ipynb\n",
    "!git commit -m \"new\"\n",
    "!git push"
   ]
  },
  {
   "cell_type": "code",
   "execution_count": 5,
   "metadata": {
    "collapsed": false
   },
   "outputs": [
    {
     "name": "stdout",
     "output_type": "stream",
     "text": [
      "  % Total    % Received % Xferd  Average Speed   Time    Time     Time  Current\n",
      "                                 Dload  Upload   Total   Spent    Left  Speed\n",
      "100 2857k  100 2857k    0     0  1395k      0  0:00:02  0:00:02 --:--:-- 1395k\n"
     ]
    }
   ],
   "source": [
    "!curl -O http://www.cs.princeton.edu/~blei/lda-c/ap.tgz\n",
    "!tar xzf ap.tgz"
   ]
  },
  {
   "cell_type": "code",
   "execution_count": 7,
   "metadata": {
    "collapsed": true
   },
   "outputs": [],
   "source": [
    "# test"
   ]
  },
  {
   "cell_type": "code",
   "execution_count": 9,
   "metadata": {
    "collapsed": true
   },
   "outputs": [],
   "source": [
    "from gensim import corpora, models, matutils"
   ]
  },
  {
   "cell_type": "code",
   "execution_count": 13,
   "metadata": {
    "collapsed": false
   },
   "outputs": [],
   "source": [
    "corpus = corpora.BleiCorpus('ap/ap.dat', 'ap/vocab.txt')"
   ]
  },
  {
   "cell_type": "code",
   "execution_count": 16,
   "metadata": {
    "collapsed": false
   },
   "outputs": [
    {
     "name": "stderr",
     "output_type": "stream",
     "text": [
      "WARNING:gensim.models.ldamodel:too few updates, training might not converge; consider increasing the number of passes or iterations to improve accuracy\n"
     ]
    }
   ],
   "source": [
    "model = models.ldamodel.LdaModel(corpus, num_topics=100, id2word=corpus.id2word)"
   ]
  },
  {
   "cell_type": "code",
   "execution_count": 19,
   "metadata": {
    "collapsed": false
   },
   "outputs": [
    {
     "data": {
      "text/plain": [
       "[(0, 1.0),\n",
       " (6144, 1.0),\n",
       " (3586, 2.0),\n",
       " (3, 1.0),\n",
       " (4, 1.0),\n",
       " (1541, 1.0),\n",
       " (8, 1.0),\n",
       " (10, 1.0),\n",
       " (3927, 1.0),\n",
       " (12, 7.0),\n",
       " (4621, 1.0),\n",
       " (527, 1.0),\n",
       " (9232, 1.0),\n",
       " (1112, 2.0),\n",
       " (20, 1.0),\n",
       " (2587, 1.0),\n",
       " (6172, 1.0),\n",
       " (10269, 2.0),\n",
       " (37, 1.0),\n",
       " (42, 1.0),\n",
       " (3117, 1.0),\n",
       " (1582, 1.0),\n",
       " (1585, 3.0),\n",
       " (435, 1.0),\n",
       " (9268, 3.0),\n",
       " (571, 2.0),\n",
       " (60, 1.0),\n",
       " (61, 1.0),\n",
       " (63, 2.0),\n",
       " (64, 2.0),\n",
       " (5185, 1.0),\n",
       " (11, 1.0),\n",
       " (4683, 1.0),\n",
       " (590, 2.0),\n",
       " (1103, 2.0),\n",
       " (592, 1.0),\n",
       " (5718, 1.0),\n",
       " (1623, 2.0),\n",
       " (1624, 4.0),\n",
       " (89, 2.0),\n",
       " (6234, 1.0),\n",
       " (8802, 1.0),\n",
       " (1638, 1.0),\n",
       " (103, 1.0),\n",
       " (600, 1.0),\n",
       " (9404, 1.0),\n",
       " (106, 1.0),\n",
       " (3691, 1.0),\n",
       " (720, 1.0),\n",
       " (2672, 1.0),\n",
       " (113, 1.0),\n",
       " (2165, 1.0),\n",
       " (5751, 1.0),\n",
       " (123, 3.0),\n",
       " (1148, 1.0),\n",
       " (128, 2.0),\n",
       " (1670, 2.0),\n",
       " (4231, 1.0),\n",
       " (1167, 1.0),\n",
       " (144, 1.0),\n",
       " (147, 1.0),\n",
       " (149, 7.0),\n",
       " (3735, 2.0),\n",
       " (5272, 2.0),\n",
       " (1732, 1.0),\n",
       " (673, 2.0),\n",
       " (5282, 1.0),\n",
       " (27, 1.0),\n",
       " (1700, 1.0),\n",
       " (9893, 2.0),\n",
       " (166, 1.0),\n",
       " (167, 1.0),\n",
       " (173, 1.0),\n",
       " (174, 1.0),\n",
       " (2224, 1.0),\n",
       " (2248, 1.0),\n",
       " (372, 2.0),\n",
       " (186, 1.0),\n",
       " (4284, 3.0),\n",
       " (3450, 2.0),\n",
       " (117, 2.0),\n",
       " (203, 1.0),\n",
       " (2244, 1.0),\n",
       " (5320, 1.0),\n",
       " (201, 1.0),\n",
       " (4215, 1.0),\n",
       " (9932, 2.0),\n",
       " (207, 2.0),\n",
       " (208, 5.0),\n",
       " (8914, 1.0),\n",
       " (7898, 1.0),\n",
       " (733, 2.0),\n",
       " (1760, 1.0),\n",
       " (1744, 1.0),\n",
       " (744, 1.0),\n",
       " (234, 1.0),\n",
       " (1259, 2.0),\n",
       " (4287, 1.0),\n",
       " (7254, 1.0),\n",
       " (249, 1.0),\n",
       " (8311, 1.0),\n",
       " (5884, 2.0),\n",
       " (298, 1.0),\n",
       " (254, 1.0),\n",
       " (767, 2.0),\n",
       " (2304, 1.0),\n",
       " (4876, 1.0),\n",
       " (270, 1.0),\n",
       " (557, 1.0),\n",
       " (786, 1.0),\n",
       " (789, 2.0),\n",
       " (2331, 1.0),\n",
       " (287, 1.0),\n",
       " (5409, 1.0),\n",
       " (290, 1.0),\n",
       " (5923, 1.0),\n",
       " (2854, 1.0),\n",
       " (1834, 3.0),\n",
       " (303, 1.0),\n",
       " (3888, 4.0),\n",
       " (817, 2.0),\n",
       " (9523, 1.0),\n",
       " (334, 1.0),\n",
       " (1333, 1.0),\n",
       " (311, 2.0),\n",
       " (1855, 1.0),\n",
       " (1417, 1.0),\n",
       " (325, 1.0),\n",
       " (1870, 7.0),\n",
       " (1361, 1.0),\n",
       " (1362, 1.0),\n",
       " (6995, 1.0),\n",
       " (342, 1.0),\n",
       " (343, 1.0),\n",
       " (344, 1.0),\n",
       " (857, 1.0),\n",
       " (5469, 2.0),\n",
       " (351, 5.0),\n",
       " (1377, 1.0),\n",
       " (2402, 1.0),\n",
       " (487, 1.0),\n",
       " (884, 1.0),\n",
       " (885, 1.0),\n",
       " (890, 1.0),\n",
       " (4477, 1.0),\n",
       " (3455, 1.0),\n",
       " (1410, 1.0),\n",
       " (5099, 1.0),\n",
       " (4489, 1.0),\n",
       " (395, 1.0),\n",
       " (2570, 1.0),\n",
       " (152, 1.0),\n",
       " (404, 1.0),\n",
       " (1429, 1.0),\n",
       " (1430, 1.0),\n",
       " (3992, 1.0),\n",
       " (416, 1.0),\n",
       " (3491, 1.0),\n",
       " (2033, 1.0),\n",
       " (3499, 1.0),\n",
       " (429, 1.0),\n",
       " (3502, 1.0),\n",
       " (5040, 1.0),\n",
       " (433, 2.0),\n",
       " (1971, 4.0),\n",
       " (437, 1.0),\n",
       " (9667, 2.0),\n",
       " (322, 1.0),\n",
       " (7119, 1.0),\n",
       " (8656, 1.0),\n",
       " (1102, 1.0),\n",
       " (985, 1.0),\n",
       " (989, 1.0),\n",
       " (1840, 1.0),\n",
       " (2529, 1.0),\n",
       " (997, 1.0),\n",
       " (2022, 2.0),\n",
       " (4071, 1.0),\n",
       " (2536, 1.0),\n",
       " (10219, 1.0),\n",
       " (1517, 1.0),\n",
       " (1009, 1.0),\n",
       " (221, 1.0),\n",
       " (3059, 1.0),\n",
       " (500, 1.0),\n",
       " (511, 1.0)]"
      ]
     },
     "execution_count": 19,
     "metadata": {},
     "output_type": "execute_result"
    }
   ],
   "source": [
    "corpus.docbyoffset(0)"
   ]
  },
  {
   "cell_type": "code",
   "execution_count": null,
   "metadata": {
    "collapsed": true
   },
   "outputs": [],
   "source": []
  }
 ],
 "metadata": {
  "kernelspec": {
   "display_name": "Python 2",
   "language": "python",
   "name": "python2"
  },
  "language_info": {
   "codemirror_mode": {
    "name": "ipython",
    "version": 2
   },
   "file_extension": ".py",
   "mimetype": "text/x-python",
   "name": "python",
   "nbconvert_exporter": "python",
   "pygments_lexer": "ipython2",
   "version": "2.7.10"
  }
 },
 "nbformat": 4,
 "nbformat_minor": 0
}
